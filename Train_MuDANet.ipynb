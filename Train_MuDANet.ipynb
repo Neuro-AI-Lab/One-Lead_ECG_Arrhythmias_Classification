{
 "cells": [
  {
   "cell_type": "code",
   "execution_count": 1,
   "metadata": {
    "id": "pojeAVtdofN-"
   },
   "outputs": [],
   "source": [
    "%load_ext autoreload\n",
    "%autoreload 2\n",
    "\n",
    "import torch\n",
    "import torch.nn as nn\n",
    "import torch.optim as optim\n",
    "import torch.nn.functional as F\n",
    "from torch.utils.data import DataLoader\n",
    "from sklearn.model_selection import train_test_split\n",
    "from sklearn.model_selection import KFold\n",
    "from sklearn.metrics import accuracy_score\n",
    "import numpy as np\n",
    "import scipy.io\n",
    "from TrainAndEvaluate import train_model, evaluate_model, ECGDataset\n",
    "from MuDANet_v1 import MuDANet"
   ]
  },
  {
   "cell_type": "markdown",
   "metadata": {},
   "source": [
    "# Hyperparameter"
   ]
  },
  {
   "cell_type": "code",
   "execution_count": 2,
   "metadata": {},
   "outputs": [],
   "source": [
    "lr = 0.0001\n",
    "batch_size = 32\n",
    "num_epochs = 40\n",
    "num_classes = 3\n",
    "gpu_num = \"0\""
   ]
  },
  {
   "cell_type": "markdown",
   "metadata": {
    "id": "OP-0MabU0-Lq"
   },
   "source": [
    "# 일반 학습"
   ]
  },
  {
   "cell_type": "code",
   "execution_count": null,
   "metadata": {
    "colab": {
     "base_uri": "https://localhost:8080/",
     "height": 391
    },
    "executionInfo": {
     "elapsed": 21446,
     "status": "error",
     "timestamp": 1727861650339,
     "user": {
      "displayName": "BluePearl",
      "userId": "18376352769127660300"
     },
     "user_tz": -540
    },
    "id": "9-180iKF8oFs",
    "outputId": "6c695416-8d2d-40e5-e2fb-8071c3bead50",
    "scrolled": true
   },
   "outputs": [
    {
     "name": "stdout",
     "output_type": "stream",
     "text": [
      "Epoch [1/40], Loss: 0.9199, Accuracy: 0.6294\n",
      "Validation Loss: 0.8696, Validation Accuracy: 0.6720, time: 34.66385817527771\n",
      "Epoch [2/40], Loss: 0.8732, Accuracy: 0.6727\n",
      "Validation Loss: 0.8407, Validation Accuracy: 0.7000, time: 36.111063718795776\n",
      "Epoch [3/40], Loss: 0.8392, Accuracy: 0.7058\n",
      "Validation Loss: 0.8222, Validation Accuracy: 0.7243, time: 29.884281396865845\n",
      "Epoch [4/40], Loss: 0.8226, Accuracy: 0.7228\n",
      "Validation Loss: 0.8026, Validation Accuracy: 0.7433, time: 35.83068346977234\n",
      "Epoch [5/40], Loss: 0.8129, Accuracy: 0.7353\n",
      "Validation Loss: 0.7866, Validation Accuracy: 0.7637, time: 37.07797408103943\n",
      "Epoch [6/40], Loss: 0.8045, Accuracy: 0.7425\n",
      "Validation Loss: 0.7865, Validation Accuracy: 0.7619, time: 34.07093095779419\n",
      "Epoch [7/40], Loss: 0.7994, Accuracy: 0.7482\n",
      "Validation Loss: 0.7729, Validation Accuracy: 0.7763, time: 28.02358913421631\n",
      "Epoch [8/40], Loss: 0.7927, Accuracy: 0.7549\n",
      "Validation Loss: 0.7676, Validation Accuracy: 0.7797, time: 19.814042806625366\n",
      "Epoch [9/40], Loss: 0.7896, Accuracy: 0.7574\n",
      "Validation Loss: 0.7769, Validation Accuracy: 0.7687, time: 19.78070068359375\n",
      "Epoch [10/40], Loss: 0.7883, Accuracy: 0.7586\n",
      "Validation Loss: 0.7766, Validation Accuracy: 0.7721, time: 19.761831045150757\n",
      "Epoch [11/40], Loss: 0.7862, Accuracy: 0.7621\n",
      "Validation Loss: 0.7732, Validation Accuracy: 0.7728, time: 19.813043117523193\n",
      "Epoch [12/40], Loss: 0.7817, Accuracy: 0.7654\n",
      "Validation Loss: 0.7622, Validation Accuracy: 0.7857, time: 19.790828943252563\n",
      "Epoch [13/40], Loss: 0.7755, Accuracy: 0.7725\n",
      "Validation Loss: 0.7653, Validation Accuracy: 0.7827, time: 28.539995908737183\n",
      "Epoch [14/40], Loss: 0.7715, Accuracy: 0.7768\n",
      "Validation Loss: 0.7659, Validation Accuracy: 0.7819, time: 31.70199704170227\n",
      "Epoch [15/40], Loss: 0.7708, Accuracy: 0.7763\n",
      "Validation Loss: 0.7625, Validation Accuracy: 0.7854, time: 30.552103519439697\n",
      "Epoch [16/40], Loss: 0.7685, Accuracy: 0.7787\n",
      "Validation Loss: 0.7621, Validation Accuracy: 0.7873, time: 31.148726224899292\n",
      "Epoch [17/40], Loss: 0.7648, Accuracy: 0.7833\n",
      "Validation Loss: 0.7551, Validation Accuracy: 0.7926, time: 31.11260724067688\n",
      "Epoch [18/40], Loss: 0.7616, Accuracy: 0.7858\n",
      "Validation Loss: 0.7530, Validation Accuracy: 0.7941, time: 31.168320894241333\n",
      "Epoch [19/40], Loss: 0.7597, Accuracy: 0.7878\n",
      "Validation Loss: 0.7497, Validation Accuracy: 0.7983, time: 30.805505514144897\n",
      "Epoch [20/40], Loss: 0.7594, Accuracy: 0.7887\n",
      "Validation Loss: 0.7506, Validation Accuracy: 0.7956, time: 30.592637062072754\n",
      "Epoch [21/40], Loss: 0.7566, Accuracy: 0.7916\n",
      "Validation Loss: 0.7480, Validation Accuracy: 0.8024, time: 30.697057723999023\n",
      "Epoch [22/40], Loss: 0.7551, Accuracy: 0.7934\n",
      "Validation Loss: 0.7493, Validation Accuracy: 0.7994, time: 30.820199251174927\n",
      "Epoch [23/40], Loss: 0.7524, Accuracy: 0.7954\n",
      "Validation Loss: 0.7540, Validation Accuracy: 0.7933, time: 30.757434368133545\n",
      "Epoch [24/40], Loss: 0.7525, Accuracy: 0.7944\n",
      "Validation Loss: 0.7440, Validation Accuracy: 0.8036, time: 30.794736862182617\n",
      "Epoch [25/40], Loss: 0.7485, Accuracy: 0.7998\n",
      "Validation Loss: 0.7443, Validation Accuracy: 0.8039, time: 30.704163074493408\n",
      "Epoch [26/40], Loss: 0.7470, Accuracy: 0.8013\n",
      "Validation Loss: 0.7398, Validation Accuracy: 0.8081, time: 30.54879379272461\n",
      "Epoch [27/40], Loss: 0.7442, Accuracy: 0.8044\n",
      "Validation Loss: 0.7450, Validation Accuracy: 0.8051, time: 30.638981819152832\n",
      "Epoch [28/40], Loss: 0.7429, Accuracy: 0.8060\n",
      "Validation Loss: 0.7398, Validation Accuracy: 0.8081, time: 30.781055212020874\n"
     ]
    }
   ],
   "source": [
    "def weights_init(m):\n",
    "    if isinstance(m, nn.Conv1d):\n",
    "        nn.init.xavier_uniform_(m.weight)\n",
    "\n",
    "    \n",
    "# 저장된 데이터 불러오기\n",
    "train_data = torch.load('../data/train_data_MuDANet.pt')\n",
    "val_data = torch.load('../data/val_data_MuDANet.pt')\n",
    "train_labels = torch.load('../data/train_labels_MuDANet.pt')\n",
    "val_labels = torch.load('../data/val_labels_MuDANet.pt')\n",
    "\n",
    "# 데이터셋 생성\n",
    "train_dataset = ECGDataset(train_data, train_labels)\n",
    "val_dataset = ECGDataset(val_data, val_labels)\n",
    "\n",
    "train_loader = DataLoader(train_dataset, batch_size=batch_size, shuffle=True)\n",
    "val_loader = DataLoader(val_dataset, batch_size=batch_size, shuffle=False)\n",
    "\n",
    "model = MuDANet(num_classes=num_classes)\n",
    "model.apply(weights_init)\n",
    "\n",
    "criterion = nn.CrossEntropyLoss()\n",
    "optimizer = optim.Adam(model.parameters(), lr=lr)\n",
    "\n",
    "device = torch.device(\"cuda:\" + gpu_num if torch.cuda.is_available() else \"cpu\")\n",
    "\n",
    "tr_loss, tr_acc, val_loss, val_acc = train_model(model, train_loader, val_loader, criterion, optimizer, num_epochs, device)"
   ]
  },
  {
   "cell_type": "code",
   "execution_count": null,
   "metadata": {
    "scrolled": true
   },
   "outputs": [],
   "source": [
    "import matplotlib.pyplot as plt\n",
    "\n",
    "plt.plot(tr_loss, label='train loss')\n",
    "plt.plot(val_loss, label='validation loss')\n",
    "plt.legend()\n",
    "\n",
    "plt.show()\n",
    "\n",
    "plt.plot(tr_acc, label='train accuracy')\n",
    "plt.plot(val_acc, label='validation accuracy')\n",
    "plt.legend()\n",
    "\n",
    "plt.show()"
   ]
  },
  {
   "cell_type": "markdown",
   "metadata": {
    "id": "vp6jwp-t06aD"
   },
   "source": [
    "# K - Fold"
   ]
  },
  {
   "cell_type": "code",
   "execution_count": null,
   "metadata": {
    "colab": {
     "base_uri": "https://localhost:8080/"
    },
    "id": "lHs5UFSeenwU",
    "outputId": "c0a9defe-9ae2-4076-f75d-9ab4610e1e80"
   },
   "outputs": [],
   "source": [
    "fold_accuracy = []\n",
    "def train_model(model, train_loader, val_loader, criterion, optimizer, num_epochs=30, device='cuda'):\n",
    "    model = model.to(device)\n",
    "\n",
    "    for epoch in range(num_epochs):\n",
    "        model.train()\n",
    "        running_loss = 0.0\n",
    "        correct = 0\n",
    "        total = 0\n",
    "\n",
    "        for inputs, labels in train_loader:\n",
    "            inputs, labels = inputs.to(device), labels.to(device)\n",
    "\n",
    "            optimizer.zero_grad()\n",
    "            outputs = model(inputs)\n",
    "            loss = criterion(outputs, labels)\n",
    "            loss.backward()\n",
    "            optimizer.step()\n",
    "\n",
    "            running_loss += loss.item() * inputs.size(0)\n",
    "            _, predicted = torch.max(outputs.data, 1)\n",
    "            total += labels.size(0)\n",
    "            correct += (predicted == labels).sum().item()\n",
    "\n",
    "        train_loss = running_loss / len(train_loader.dataset)\n",
    "        train_accuracy = correct / total\n",
    "        print(f'Epoch [{epoch + 1}/{num_epochs}], Loss: {train_loss:.4f}, Accuracy: {train_accuracy:.4f}')\n",
    "\n",
    "        val_loss, val_accuracy = evaluate_model(model, val_loader, criterion, device)\n",
    "        print(f'Validation Loss: {val_loss:.4f}, Validation Accuracy: {val_accuracy:.4f}')\n",
    "        fold_accuracy.append(val_accuracy)\n",
    "\n",
    "\n",
    "def evaluate_model(model, val_loader, criterion, device='cuda'):\n",
    "    model.eval()\n",
    "    val_loss = 0.0\n",
    "    correct = 0\n",
    "    total = 0\n",
    "\n",
    "    with torch.no_grad():\n",
    "        for inputs, labels in val_loader:\n",
    "            inputs, labels = inputs.to(device), labels.to(device)\n",
    "            outputs = model(inputs)\n",
    "            loss = criterion(outputs, labels)\n",
    "\n",
    "            val_loss += loss.item() * inputs.size(0)\n",
    "            _, predicted = torch.max(outputs.data, 1)\n",
    "            total += labels.size(0)\n",
    "            correct += (predicted == labels).sum().item()\n",
    "\n",
    "    val_loss /= len(val_loader.dataset)\n",
    "    val_accuracy = correct / total\n",
    "    return val_loss, val_accuracy\n",
    "\n",
    "\n",
    "class ECGDataset(Dataset):\n",
    "    def __init__(self, data, labels):\n",
    "        self.data = data\n",
    "        self.labels = labels\n",
    "\n",
    "    def __len__(self):\n",
    "        return len(self.data)\n",
    "\n",
    "    def __getitem__(self, idx):\n",
    "        return self.data[idx], self.labels[idx]\n",
    "\n",
    "def weights_init(m):\n",
    "    if isinstance(m, nn.Conv1d):\n",
    "        nn.init.xavier_uniform_(m.weight)\n",
    "\n",
    "def main():\n",
    "\n",
    "    np_data = np.load('/content/drive/MyDrive/ECG/training_9s.npy').astype(np.float32)\n",
    "    label = np.load('/content/drive/MyDrive/ECG/training_9s_label.npy').astype(np.float32)\n",
    "    X_tensor = torch.tensor(np_data.reshape(np_data.shape[0], 1, np_data.shape[2]), dtype=torch.float32)\n",
    "    y_tensor = torch.tensor(label, dtype=torch.long)\n",
    "\n",
    "    kf = KFold(n_splits=10, shuffle=True, random_state=42)\n",
    "\n",
    "    for fold, (train_index, test_index) in enumerate(kf.split(X_tensor)):\n",
    "        print(f\"Fold {fold + 1}\")\n",
    "        # Train/test 데이터 나누기\n",
    "        X_train, X_test = X_tensor[train_index], X_tensor[test_index]\n",
    "        y_train, y_test = y_tensor[train_index], y_tensor[test_index]\n",
    "\n",
    "        # 데이터 로더 생성\n",
    "        train_dataset = ECGDataset(X_train, y_train)\n",
    "        test_dataset = ECGDataset(X_test, y_test)\n",
    "\n",
    "        train_loader = DataLoader(train_dataset, batch_size=32, shuffle=True)\n",
    "        val_loader = DataLoader(test_dataset, batch_size=32, shuffle=False)\n",
    "\n",
    "        model = MuDANet(num_classes=3)\n",
    "        model.apply(weights_init)\n",
    "\n",
    "        criterion = nn.CrossEntropyLoss()\n",
    "        optimizer = optim.Adam(model.parameters(), lr=0.0001)\n",
    "\n",
    "        device = torch.device(\"cuda\" if torch.cuda.is_available() else \"cpu\")\n",
    "        train_model(model, train_loader, val_loader, criterion, optimizer, num_epochs=40, device=device)\n",
    "\n",
    "\n",
    "\n",
    "if __name__ == '__main__':\n",
    "    main()\n",
    "    print(f\"\\nOverall Accuracy: {np.mean(fold_accuracy):.4f}\")"
   ]
  },
  {
   "cell_type": "code",
   "execution_count": null,
   "metadata": {
    "id": "vq2DGxe5hIos"
   },
   "outputs": [],
   "source": []
  }
 ],
 "metadata": {
  "accelerator": "GPU",
  "colab": {
   "authorship_tag": "ABX9TyPxtRANmtj+2di5JrTJtBEE",
   "gpuType": "A100",
   "machine_shape": "hm",
   "mount_file_id": "1Ze1kO3d0682o4xsNUKaHP9jB8Y0VHTf4",
   "provenance": []
  },
  "kernelspec": {
   "display_name": "MuDANet",
   "language": "python",
   "name": "mudanet"
  },
  "language_info": {
   "codemirror_mode": {
    "name": "ipython",
    "version": 3
   },
   "file_extension": ".py",
   "mimetype": "text/x-python",
   "name": "python",
   "nbconvert_exporter": "python",
   "pygments_lexer": "ipython3",
   "version": "3.8.20"
  }
 },
 "nbformat": 4,
 "nbformat_minor": 4
}
